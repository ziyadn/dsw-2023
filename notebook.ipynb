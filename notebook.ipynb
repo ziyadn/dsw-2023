{
 "cells": [
  {
   "cell_type": "markdown",
   "metadata": {},
   "source": [
    "# Harmonize data catalogs: Optimize operations by navigating POS variability\n",
    "\n",
    "<table align=\"left\">\n",
    "  <td>\n",
    "<a href=\"https://colab.research.google.com/github/carloabimanyu/dsw-data-challenges-2023/blob/main/notebook.ipynb\" target='_blank'>\n",
    "      <img src=\"https://cloud.google.com/ml-engine/images/colab-logo-32px.png\" alt=\"Colab logo\"> Run in Colab\n",
    "    </a>\n",
    "  </td>\n",
    "  <td>\n",
    "<a href=\"https://github.com/carloabimanyu/dsw-data-challenges-2023/blob/main/notebook.ipynb\" target='_blank'>\n",
    "      <img src=\"https://cloud.google.com/ml-engine/images/github-logo-32px.png\" alt=\"GitHub logo\">\n",
    "      View on GitHub\n",
    "    </a>\n",
    "  </td>       \n",
    "</table>\n",
    "<br/><br/><br/>"
   ]
  },
  {
   "cell_type": "markdown",
   "metadata": {},
   "source": [
    "## Overview\n",
    "\n",
    "This notebook demonstrate how to do text preprocessing and calculate similarity using specific vectorizer and distance measure to manage data catalog.\n",
    "\n",
    "### Objective\n",
    "\n",
    "By managing data catalog, we can reach following objectives:\n",
    "- Operational Efficiency\n",
    "- Data Integrity & Quality\n",
    "- Aiding Decision-Making\n",
    "\n",
    "### Dataset\n",
    "Dataset used in this project are:\n",
    "1. POS data: given datasets that contains product name across multiple POS\n",
    "2. Data catalog: given datasets that contains standardized product name, brand, type, and formula\n",
    "3. External data collection: collected fertilizer catalog from various resource"
   ]
  },
  {
   "cell_type": "markdown",
   "metadata": {},
   "source": [
    "## Installation\n",
    "Run following command to clone repository."
   ]
  },
  {
   "cell_type": "code",
   "execution_count": 10,
   "metadata": {},
   "outputs": [],
   "source": [
    "# ! git clone https://github.com/carloabimanyu/dsw-data-challenge-2023.git"
   ]
  },
  {
   "cell_type": "markdown",
   "metadata": {},
   "source": [
    "### Import library and define constants"
   ]
  },
  {
   "cell_type": "code",
   "execution_count": 1,
   "metadata": {},
   "outputs": [],
   "source": [
    "import sys\n",
    "sys.path.append('./')\n",
    "\n",
    "import re\n",
    "import numpy as np\n",
    "import pandas as pd\n",
    "\n",
    "from src import utils\n",
    "from src.product import Product\n",
    "from src.preprocessing import preprocessing_catalog, preprocessing_pos, preprocessing_external\n",
    "\n",
    "config = utils.load_config()"
   ]
  },
  {
   "cell_type": "markdown",
   "metadata": {},
   "source": [
    "### Load dataset"
   ]
  },
  {
   "cell_type": "code",
   "execution_count": 2,
   "metadata": {},
   "outputs": [],
   "source": [
    "catalog = pd.read_excel(config['catalog_data_path'], sheet_name=config['catalog_data_sheet'])\n",
    "catalog = preprocessing_catalog.preprocessing(catalog)\n",
    "\n",
    "pos = pd.read_excel(config['pos_data_path'], sheet_name=config['pos_data_sheet'])\n",
    "pos = pos.dropna()\n",
    "pos['Product Name'] = pos['Product Name'].apply(lambda name: Product(name))\n",
    "pos = preprocessing_pos.preprocessing(pos)\n",
    "\n",
    "external = pd.read_csv(config['external_data_path'])\n",
    "external['Nama Produk'] = external['Nama Produk'].apply(lambda name: Product(name))\n",
    "external = preprocessing_external.preprocessing(external, config)"
   ]
  },
  {
   "cell_type": "code",
   "execution_count": 3,
   "metadata": {},
   "outputs": [
    {
     "data": {
      "text/html": [
       "<div>\n",
       "<style scoped>\n",
       "    .dataframe tbody tr th:only-of-type {\n",
       "        vertical-align: middle;\n",
       "    }\n",
       "\n",
       "    .dataframe tbody tr th {\n",
       "        vertical-align: top;\n",
       "    }\n",
       "\n",
       "    .dataframe thead th {\n",
       "        text-align: right;\n",
       "    }\n",
       "</style>\n",
       "<table border=\"1\" class=\"dataframe\">\n",
       "  <thead>\n",
       "    <tr style=\"text-align: right;\">\n",
       "      <th></th>\n",
       "      <th>Product SKU</th>\n",
       "      <th>Brand</th>\n",
       "      <th>Type</th>\n",
       "      <th>Formula</th>\n",
       "    </tr>\n",
       "  </thead>\n",
       "  <tbody>\n",
       "    <tr>\n",
       "      <th>0</th>\n",
       "      <td>Urea Petro</td>\n",
       "      <td>PIHC</td>\n",
       "      <td>Urea</td>\n",
       "      <td>NaN</td>\n",
       "    </tr>\n",
       "    <tr>\n",
       "      <th>1</th>\n",
       "      <td>Urea PIM</td>\n",
       "      <td>PIHC</td>\n",
       "      <td>Urea</td>\n",
       "      <td>NaN</td>\n",
       "    </tr>\n",
       "    <tr>\n",
       "      <th>2</th>\n",
       "      <td>Urea Nitrea</td>\n",
       "      <td>PIHC</td>\n",
       "      <td>Urea</td>\n",
       "      <td>NaN</td>\n",
       "    </tr>\n",
       "    <tr>\n",
       "      <th>3</th>\n",
       "      <td>Urea Daun Buah</td>\n",
       "      <td>PIHC</td>\n",
       "      <td>Urea</td>\n",
       "      <td>NaN</td>\n",
       "    </tr>\n",
       "    <tr>\n",
       "      <th>4</th>\n",
       "      <td>Urea Pusri</td>\n",
       "      <td>PIHC</td>\n",
       "      <td>Urea</td>\n",
       "      <td>NaN</td>\n",
       "    </tr>\n",
       "  </tbody>\n",
       "</table>\n",
       "</div>"
      ],
      "text/plain": [
       "      Product SKU Brand  Type Formula\n",
       "0      Urea Petro  PIHC  Urea     NaN\n",
       "1        Urea PIM  PIHC  Urea     NaN\n",
       "2     Urea Nitrea  PIHC  Urea     NaN\n",
       "3  Urea Daun Buah  PIHC  Urea     NaN\n",
       "4      Urea Pusri  PIHC  Urea     NaN"
      ]
     },
     "execution_count": 3,
     "metadata": {},
     "output_type": "execute_result"
    }
   ],
   "source": [
    "catalog.head()"
   ]
  },
  {
   "cell_type": "code",
   "execution_count": 4,
   "metadata": {},
   "outputs": [
    {
     "data": {
      "text/html": [
       "<div>\n",
       "<style scoped>\n",
       "    .dataframe tbody tr th:only-of-type {\n",
       "        vertical-align: middle;\n",
       "    }\n",
       "\n",
       "    .dataframe tbody tr th {\n",
       "        vertical-align: top;\n",
       "    }\n",
       "\n",
       "    .dataframe thead th {\n",
       "        text-align: right;\n",
       "    }\n",
       "</style>\n",
       "<table border=\"1\" class=\"dataframe\">\n",
       "  <thead>\n",
       "    <tr style=\"text-align: right;\">\n",
       "      <th></th>\n",
       "      <th>Product Name</th>\n",
       "      <th>Name</th>\n",
       "      <th>Formula</th>\n",
       "      <th>Metrics</th>\n",
       "    </tr>\n",
       "  </thead>\n",
       "  <tbody>\n",
       "    <tr>\n",
       "      <th>0</th>\n",
       "      <td>Pupuk Urea N 46%</td>\n",
       "      <td>Pupuk Urea N</td>\n",
       "      <td>None</td>\n",
       "      <td>46%</td>\n",
       "    </tr>\n",
       "    <tr>\n",
       "      <th>1</th>\n",
       "      <td>Pupuk Amonium Sulfat ZA</td>\n",
       "      <td>Pupuk Amonium Sulfat ZA</td>\n",
       "      <td>None</td>\n",
       "      <td>None</td>\n",
       "    </tr>\n",
       "    <tr>\n",
       "      <th>2</th>\n",
       "      <td>Pupuk Super Fosfat SP-36</td>\n",
       "      <td>Pupuk Super Fosfat SP36</td>\n",
       "      <td>None</td>\n",
       "      <td>None</td>\n",
       "    </tr>\n",
       "    <tr>\n",
       "      <th>3</th>\n",
       "      <td>Pupuk NPK Phonska</td>\n",
       "      <td>Pupuk NPK Phonska</td>\n",
       "      <td>None</td>\n",
       "      <td>None</td>\n",
       "    </tr>\n",
       "    <tr>\n",
       "      <th>4</th>\n",
       "      <td>Pupuk NPK Formula Khusus</td>\n",
       "      <td>Pupuk NPK Formula Khusus</td>\n",
       "      <td>None</td>\n",
       "      <td>None</td>\n",
       "    </tr>\n",
       "  </tbody>\n",
       "</table>\n",
       "</div>"
      ],
      "text/plain": [
       "               Product Name                      Name Formula Metrics\n",
       "0          Pupuk Urea N 46%             Pupuk Urea N     None     46%\n",
       "1   Pupuk Amonium Sulfat ZA   Pupuk Amonium Sulfat ZA    None    None\n",
       "2  Pupuk Super Fosfat SP-36   Pupuk Super Fosfat SP36    None    None\n",
       "3         Pupuk NPK Phonska         Pupuk NPK Phonska    None    None\n",
       "4  Pupuk NPK Formula Khusus  Pupuk NPK Formula Khusus    None    None"
      ]
     },
     "execution_count": 4,
     "metadata": {},
     "output_type": "execute_result"
    }
   ],
   "source": [
    "pos.head()"
   ]
  },
  {
   "cell_type": "code",
   "execution_count": 15,
   "metadata": {},
   "outputs": [
    {
     "data": {
      "text/html": [
       "<div>\n",
       "<style scoped>\n",
       "    .dataframe tbody tr th:only-of-type {\n",
       "        vertical-align: middle;\n",
       "    }\n",
       "\n",
       "    .dataframe tbody tr th {\n",
       "        vertical-align: top;\n",
       "    }\n",
       "\n",
       "    .dataframe thead th {\n",
       "        text-align: right;\n",
       "    }\n",
       "</style>\n",
       "<table border=\"1\" class=\"dataframe\">\n",
       "  <thead>\n",
       "    <tr style=\"text-align: right;\">\n",
       "      <th></th>\n",
       "      <th>Brand</th>\n",
       "      <th>Product SKU</th>\n",
       "      <th>Formula</th>\n",
       "      <th>Type</th>\n",
       "    </tr>\n",
       "  </thead>\n",
       "  <tbody>\n",
       "    <tr>\n",
       "      <th>0</th>\n",
       "      <td>Yara</td>\n",
       "      <td>NPK 15-09-20 YARAMILA WINNER</td>\n",
       "      <td>15-09-20</td>\n",
       "      <td>Majemuk</td>\n",
       "    </tr>\n",
       "    <tr>\n",
       "      <th>1</th>\n",
       "      <td>Yara</td>\n",
       "      <td>NPK 16-16-16 YARAMILA UNIK</td>\n",
       "      <td>16-16-16</td>\n",
       "      <td>Majemuk</td>\n",
       "    </tr>\n",
       "    <tr>\n",
       "      <th>2</th>\n",
       "      <td>Yara</td>\n",
       "      <td>NPK 25-7-7 YARAMILA FASTER</td>\n",
       "      <td>25-7-7</td>\n",
       "      <td>Majemuk</td>\n",
       "    </tr>\n",
       "    <tr>\n",
       "      <th>3</th>\n",
       "      <td>Yara</td>\n",
       "      <td>NPK YARAMILA COMPLEX</td>\n",
       "      <td>None</td>\n",
       "      <td>Others</td>\n",
       "    </tr>\n",
       "    <tr>\n",
       "      <th>4</th>\n",
       "      <td>Yara</td>\n",
       "      <td>NPK YARAMILA PALMAE</td>\n",
       "      <td>None</td>\n",
       "      <td>Others</td>\n",
       "    </tr>\n",
       "  </tbody>\n",
       "</table>\n",
       "</div>"
      ],
      "text/plain": [
       "  Brand                   Product SKU   Formula     Type\n",
       "0  Yara  NPK 15-09-20 YARAMILA WINNER  15-09-20  Majemuk\n",
       "1  Yara    NPK 16-16-16 YARAMILA UNIK  16-16-16  Majemuk\n",
       "2  Yara    NPK 25-7-7 YARAMILA FASTER    25-7-7  Majemuk\n",
       "3  Yara          NPK YARAMILA COMPLEX      None   Others\n",
       "4  Yara           NPK YARAMILA PALMAE      None   Others"
      ]
     },
     "execution_count": 15,
     "metadata": {},
     "output_type": "execute_result"
    }
   ],
   "source": [
    "external.head()"
   ]
  },
  {
   "cell_type": "markdown",
   "metadata": {},
   "source": [
    "## Calculate similarity"
   ]
  },
  {
   "cell_type": "code",
   "execution_count": 12,
   "metadata": {},
   "outputs": [
    {
     "data": {
      "text/html": [
       "<div>\n",
       "<style scoped>\n",
       "    .dataframe tbody tr th:only-of-type {\n",
       "        vertical-align: middle;\n",
       "    }\n",
       "\n",
       "    .dataframe tbody tr th {\n",
       "        vertical-align: top;\n",
       "    }\n",
       "\n",
       "    .dataframe thead th {\n",
       "        text-align: right;\n",
       "    }\n",
       "</style>\n",
       "<table border=\"1\" class=\"dataframe\">\n",
       "  <thead>\n",
       "    <tr style=\"text-align: right;\">\n",
       "      <th></th>\n",
       "      <th>Product SKU</th>\n",
       "      <th>Brand</th>\n",
       "      <th>Type</th>\n",
       "      <th>Formula</th>\n",
       "    </tr>\n",
       "  </thead>\n",
       "  <tbody>\n",
       "    <tr>\n",
       "      <th>0</th>\n",
       "      <td>Urea Petro</td>\n",
       "      <td>PIHC</td>\n",
       "      <td>Urea</td>\n",
       "      <td>NaN</td>\n",
       "    </tr>\n",
       "    <tr>\n",
       "      <th>1</th>\n",
       "      <td>Urea PIM</td>\n",
       "      <td>PIHC</td>\n",
       "      <td>Urea</td>\n",
       "      <td>NaN</td>\n",
       "    </tr>\n",
       "  </tbody>\n",
       "</table>\n",
       "</div>"
      ],
      "text/plain": [
       "  Product SKU Brand  Type Formula\n",
       "0  Urea Petro  PIHC  Urea     NaN\n",
       "1    Urea PIM  PIHC  Urea     NaN"
      ]
     },
     "execution_count": 12,
     "metadata": {},
     "output_type": "execute_result"
    }
   ],
   "source": [
    "catalog.head(2)"
   ]
  },
  {
   "cell_type": "code",
   "execution_count": 13,
   "metadata": {},
   "outputs": [
    {
     "data": {
      "text/html": [
       "<div>\n",
       "<style scoped>\n",
       "    .dataframe tbody tr th:only-of-type {\n",
       "        vertical-align: middle;\n",
       "    }\n",
       "\n",
       "    .dataframe tbody tr th {\n",
       "        vertical-align: top;\n",
       "    }\n",
       "\n",
       "    .dataframe thead th {\n",
       "        text-align: right;\n",
       "    }\n",
       "</style>\n",
       "<table border=\"1\" class=\"dataframe\">\n",
       "  <thead>\n",
       "    <tr style=\"text-align: right;\">\n",
       "      <th></th>\n",
       "      <th>Brand</th>\n",
       "      <th>Nama Produk</th>\n",
       "      <th>Formula</th>\n",
       "      <th>Type</th>\n",
       "    </tr>\n",
       "  </thead>\n",
       "  <tbody>\n",
       "    <tr>\n",
       "      <th>0</th>\n",
       "      <td>Yara</td>\n",
       "      <td>NPK 15-09-20 YARAMILA WINNER</td>\n",
       "      <td>15-09-20</td>\n",
       "      <td>Majemuk</td>\n",
       "    </tr>\n",
       "    <tr>\n",
       "      <th>1</th>\n",
       "      <td>Yara</td>\n",
       "      <td>NPK 16-16-16 YARAMILA UNIK</td>\n",
       "      <td>16-16-16</td>\n",
       "      <td>Majemuk</td>\n",
       "    </tr>\n",
       "  </tbody>\n",
       "</table>\n",
       "</div>"
      ],
      "text/plain": [
       "  Brand                   Nama Produk   Formula     Type\n",
       "0  Yara  NPK 15-09-20 YARAMILA WINNER  15-09-20  Majemuk\n",
       "1  Yara    NPK 16-16-16 YARAMILA UNIK  16-16-16  Majemuk"
      ]
     },
     "execution_count": 13,
     "metadata": {},
     "output_type": "execute_result"
    }
   ],
   "source": [
    "external.head(2)"
   ]
  },
  {
   "cell_type": "code",
   "execution_count": 16,
   "metadata": {},
   "outputs": [],
   "source": [
    "all_catalog = pd.concat([catalog, external], ignore_index=True)\n",
    "all_catalog = all_catalog.reset_index(drop=True)"
   ]
  },
  {
   "cell_type": "code",
   "execution_count": 6,
   "metadata": {},
   "outputs": [],
   "source": [
    "pos['Text'] = pos.apply(lambda row: row['Name'] if pd.isnull(row['Formula']) else f'{row[\"Name\"]}{row[\"Formula\"]}', axis=1)"
   ]
  },
  {
   "cell_type": "code",
   "execution_count": 8,
   "metadata": {},
   "outputs": [],
   "source": [
    "from sklearn.feature_extraction.text import TfidfVectorizer\n",
    "from scipy.sparse import csr_matrix\n",
    "from src.similarity import spdt\n",
    "from src.similarity.ngrams import ngrams"
   ]
  },
  {
   "cell_type": "code",
   "execution_count": 9,
   "metadata": {},
   "outputs": [],
   "source": [
    "products = pd.concat([all_catalog['Product SKU'], pos['Text']], axis=0, ignore_index=True).reset_index(drop=True)\n",
    "\n",
    "vectorizer = TfidfVectorizer(\n",
    "    min_df=2, \n",
    "    analyzer=ngrams\n",
    ")\n",
    "tf_idf_matrix = vectorizer.fit_transform(products)"
   ]
  },
  {
   "cell_type": "code",
   "execution_count": 10,
   "metadata": {},
   "outputs": [
    {
     "data": {
      "text/plain": [
       "<44187x9648 sparse matrix of type '<class 'numpy.float64'>'\n",
       "\twith 418515 stored elements in Compressed Sparse Row format>"
      ]
     },
     "execution_count": 10,
     "metadata": {},
     "output_type": "execute_result"
    }
   ],
   "source": [
    "matches = spdt.awesome_cossim_top(\n",
    "    tf_idf_matrix,\n",
    "    tf_idf_matrix.transpose(),\n",
    "    ntop=10,\n",
    "    lower_bound=0.6\n",
    ")"
   ]
  },
  {
   "cell_type": "code",
   "execution_count": null,
   "metadata": {},
   "outputs": [],
   "source": [
    "matches_df = get_matches_df(matches, products, top=200)\n",
    "matches_df = matches_df[matches_df['similarity'] < 1]"
   ]
  },
  {
   "cell_type": "code",
   "execution_count": null,
   "metadata": {},
   "outputs": [],
   "source": [
    "matches_df.sample(10)"
   ]
  }
 ],
 "metadata": {
  "kernelspec": {
   "display_name": ".venv",
   "language": "python",
   "name": "python3"
  },
  "language_info": {
   "codemirror_mode": {
    "name": "ipython",
    "version": 3
   },
   "file_extension": ".py",
   "mimetype": "text/x-python",
   "name": "python",
   "nbconvert_exporter": "python",
   "pygments_lexer": "ipython3",
   "version": "3.12.0"
  }
 },
 "nbformat": 4,
 "nbformat_minor": 2
}
