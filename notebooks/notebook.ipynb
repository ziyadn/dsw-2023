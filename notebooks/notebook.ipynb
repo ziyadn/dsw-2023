{
 "cells": [
  {
   "cell_type": "code",
   "execution_count": 2,
   "metadata": {},
   "outputs": [],
   "source": [
    "import pandas as pd"
   ]
  },
  {
   "cell_type": "code",
   "execution_count": 5,
   "metadata": {},
   "outputs": [],
   "source": [
    "catalog = pd.read_excel('../data/raw/Product Catalog.xlsx', sheet_name='Product Catalog')\n",
    "pos = pd.read_excel('../data/raw/Product Name from PoS Transactions.xlsx', sheet_name='Product Name')"
   ]
  },
  {
   "cell_type": "code",
   "execution_count": 6,
   "metadata": {},
   "outputs": [
    {
     "data": {
      "text/html": [
       "<div>\n",
       "<style scoped>\n",
       "    .dataframe tbody tr th:only-of-type {\n",
       "        vertical-align: middle;\n",
       "    }\n",
       "\n",
       "    .dataframe tbody tr th {\n",
       "        vertical-align: top;\n",
       "    }\n",
       "\n",
       "    .dataframe thead th {\n",
       "        text-align: right;\n",
       "    }\n",
       "</style>\n",
       "<table border=\"1\" class=\"dataframe\">\n",
       "  <thead>\n",
       "    <tr style=\"text-align: right;\">\n",
       "      <th></th>\n",
       "      <th>Product SKU</th>\n",
       "      <th>Brand</th>\n",
       "      <th>Type</th>\n",
       "      <th>Formula</th>\n",
       "    </tr>\n",
       "  </thead>\n",
       "  <tbody>\n",
       "    <tr>\n",
       "      <th>0</th>\n",
       "      <td>Urea Petro</td>\n",
       "      <td>PIHC</td>\n",
       "      <td>Urea</td>\n",
       "      <td>NaN</td>\n",
       "    </tr>\n",
       "    <tr>\n",
       "      <th>1</th>\n",
       "      <td>Urea PIM</td>\n",
       "      <td>PIHC</td>\n",
       "      <td>Urea</td>\n",
       "      <td>NaN</td>\n",
       "    </tr>\n",
       "    <tr>\n",
       "      <th>2</th>\n",
       "      <td>Urea Nitrea</td>\n",
       "      <td>PIHC</td>\n",
       "      <td>Urea</td>\n",
       "      <td>NaN</td>\n",
       "    </tr>\n",
       "    <tr>\n",
       "      <th>3</th>\n",
       "      <td>Urea Daun Buah</td>\n",
       "      <td>PIHC</td>\n",
       "      <td>Urea</td>\n",
       "      <td>NaN</td>\n",
       "    </tr>\n",
       "    <tr>\n",
       "      <th>4</th>\n",
       "      <td>Urea Pusri</td>\n",
       "      <td>PIHC</td>\n",
       "      <td>Urea</td>\n",
       "      <td>NaN</td>\n",
       "    </tr>\n",
       "  </tbody>\n",
       "</table>\n",
       "</div>"
      ],
      "text/plain": [
       "      Product SKU Brand  Type Formula\n",
       "0      Urea Petro  PIHC  Urea     NaN\n",
       "1        Urea PIM  PIHC  Urea     NaN\n",
       "2     Urea Nitrea  PIHC  Urea     NaN\n",
       "3  Urea Daun Buah  PIHC  Urea     NaN\n",
       "4      Urea Pusri  PIHC  Urea     NaN"
      ]
     },
     "execution_count": 6,
     "metadata": {},
     "output_type": "execute_result"
    }
   ],
   "source": [
    "catalog.head()"
   ]
  },
  {
   "cell_type": "code",
   "execution_count": 8,
   "metadata": {},
   "outputs": [
    {
     "data": {
      "text/html": [
       "<div>\n",
       "<style scoped>\n",
       "    .dataframe tbody tr th:only-of-type {\n",
       "        vertical-align: middle;\n",
       "    }\n",
       "\n",
       "    .dataframe tbody tr th {\n",
       "        vertical-align: top;\n",
       "    }\n",
       "\n",
       "    .dataframe thead th {\n",
       "        text-align: right;\n",
       "    }\n",
       "</style>\n",
       "<table border=\"1\" class=\"dataframe\">\n",
       "  <thead>\n",
       "    <tr style=\"text-align: right;\">\n",
       "      <th></th>\n",
       "      <th>Product Name</th>\n",
       "    </tr>\n",
       "  </thead>\n",
       "  <tbody>\n",
       "    <tr>\n",
       "      <th>0</th>\n",
       "      <td>Pupuk Urea N 46%</td>\n",
       "    </tr>\n",
       "    <tr>\n",
       "      <th>1</th>\n",
       "      <td>Pupuk Amonium Sulfat ZA</td>\n",
       "    </tr>\n",
       "    <tr>\n",
       "      <th>2</th>\n",
       "      <td>Pupuk Super Fosfat SP-36</td>\n",
       "    </tr>\n",
       "    <tr>\n",
       "      <th>3</th>\n",
       "      <td>Pupuk NPK Phonska</td>\n",
       "    </tr>\n",
       "    <tr>\n",
       "      <th>4</th>\n",
       "      <td>Pupuk NPK Formula Khusus</td>\n",
       "    </tr>\n",
       "  </tbody>\n",
       "</table>\n",
       "</div>"
      ],
      "text/plain": [
       "               Product Name\n",
       "0          Pupuk Urea N 46%\n",
       "1   Pupuk Amonium Sulfat ZA\n",
       "2  Pupuk Super Fosfat SP-36\n",
       "3         Pupuk NPK Phonska\n",
       "4  Pupuk NPK Formula Khusus"
      ]
     },
     "execution_count": 8,
     "metadata": {},
     "output_type": "execute_result"
    }
   ],
   "source": [
    "pos.head()"
   ]
  },
  {
   "cell_type": "code",
   "execution_count": 37,
   "metadata": {},
   "outputs": [
    {
     "data": {
      "text/html": [
       "<div>\n",
       "<style scoped>\n",
       "    .dataframe tbody tr th:only-of-type {\n",
       "        vertical-align: middle;\n",
       "    }\n",
       "\n",
       "    .dataframe tbody tr th {\n",
       "        vertical-align: top;\n",
       "    }\n",
       "\n",
       "    .dataframe thead th {\n",
       "        text-align: right;\n",
       "    }\n",
       "</style>\n",
       "<table border=\"1\" class=\"dataframe\">\n",
       "  <thead>\n",
       "    <tr style=\"text-align: right;\">\n",
       "      <th></th>\n",
       "      <th>Product SKU</th>\n",
       "      <th>Brand</th>\n",
       "      <th>Type</th>\n",
       "      <th>Formula</th>\n",
       "    </tr>\n",
       "  </thead>\n",
       "  <tbody>\n",
       "    <tr>\n",
       "      <th>20</th>\n",
       "      <td>Petro Niphos 20-20+13S</td>\n",
       "      <td>PIHC</td>\n",
       "      <td>Majemuk</td>\n",
       "      <td>20-20-0</td>\n",
       "    </tr>\n",
       "    <tr>\n",
       "      <th>21</th>\n",
       "      <td>FERTIGRES  16-20+13S</td>\n",
       "      <td>PIHC</td>\n",
       "      <td>Majemuk</td>\n",
       "      <td>16-20-0</td>\n",
       "    </tr>\n",
       "    <tr>\n",
       "      <th>55</th>\n",
       "      <td>MerokeCPN NK 15-15+TE</td>\n",
       "      <td>Mutiara</td>\n",
       "      <td>Majemuk</td>\n",
       "      <td>15-15-0</td>\n",
       "    </tr>\n",
       "    <tr>\n",
       "      <th>60</th>\n",
       "      <td>Mutiara GROWER 15-09-20+TE</td>\n",
       "      <td>Mutiara</td>\n",
       "      <td>Majemuk</td>\n",
       "      <td>15-9-20</td>\n",
       "    </tr>\n",
       "    <tr>\n",
       "      <th>68</th>\n",
       "      <td>Mahkota NP 16-20-12S</td>\n",
       "      <td>Mahkota</td>\n",
       "      <td>Majemuk</td>\n",
       "      <td>16-20-0</td>\n",
       "    </tr>\n",
       "    <tr>\n",
       "      <th>83</th>\n",
       "      <td>Saprodap  16-20+12S</td>\n",
       "      <td>Pak Tani</td>\n",
       "      <td>Majemuk</td>\n",
       "      <td>16-20-0</td>\n",
       "    </tr>\n",
       "    <tr>\n",
       "      <th>125</th>\n",
       "      <td>YaraMila WINNER 15-09-20+1.3MgO+3.4S+TE</td>\n",
       "      <td>Yara</td>\n",
       "      <td>Majemuk</td>\n",
       "      <td>15-9-20</td>\n",
       "    </tr>\n",
       "    <tr>\n",
       "      <th>172</th>\n",
       "      <td>EMCOTE 15-15-6-4+TE</td>\n",
       "      <td>LaoYing</td>\n",
       "      <td>Majemuk</td>\n",
       "      <td>15-15-0</td>\n",
       "    </tr>\n",
       "  </tbody>\n",
       "</table>\n",
       "</div>"
      ],
      "text/plain": [
       "                                 Product SKU     Brand     Type   Formula\n",
       "20                    Petro Niphos 20-20+13S      PIHC  Majemuk   20-20-0\n",
       "21                     FERTIGRES  16-20+13S       PIHC  Majemuk   16-20-0\n",
       "55                     MerokeCPN NK 15-15+TE   Mutiara  Majemuk   15-15-0\n",
       "60                Mutiara GROWER 15-09-20+TE   Mutiara  Majemuk   15-9-20\n",
       "68                      Mahkota NP 16-20-12S   Mahkota  Majemuk   16-20-0\n",
       "83                       Saprodap  16-20+12S  Pak Tani  Majemuk   16-20-0\n",
       "125  YaraMila WINNER 15-09-20+1.3MgO+3.4S+TE      Yara  Majemuk   15-9-20\n",
       "172                      EMCOTE 15-15-6-4+TE   LaoYing  Majemuk   15-15-0"
      ]
     },
     "execution_count": 37,
     "metadata": {},
     "output_type": "execute_result"
    }
   ],
   "source": [
    "x = catalog[~catalog['Formula'].isnull()].apply(lambda x: True if x['Formula'] in x['Product SKU'] else False, axis=1)\n",
    "x = x[x == False]\n",
    "x = x.index.tolist()\n",
    "catalog.loc[x]"
   ]
  },
  {
   "cell_type": "code",
   "execution_count": 45,
   "metadata": {},
   "outputs": [
    {
     "data": {
      "text/plain": [
       "array(['PIHC', 'Mutiara', 'Mahkota', 'Pak Tani', 'Yara', 'Tawon',\n",
       "       'DGW/Hextar', 'BASF', 'LaoYing'], dtype=object)"
      ]
     },
     "execution_count": 45,
     "metadata": {},
     "output_type": "execute_result"
    }
   ],
   "source": [
    "catalog['Brand'].unique()"
   ]
  },
  {
   "cell_type": "code",
   "execution_count": null,
   "metadata": {},
   "outputs": [],
   "source": []
  }
 ],
 "metadata": {
  "kernelspec": {
   "display_name": ".venv",
   "language": "python",
   "name": "python3"
  },
  "language_info": {
   "codemirror_mode": {
    "name": "ipython",
    "version": 3
   },
   "file_extension": ".py",
   "mimetype": "text/x-python",
   "name": "python",
   "nbconvert_exporter": "python",
   "pygments_lexer": "ipython3",
   "version": "3.12.0"
  }
 },
 "nbformat": 4,
 "nbformat_minor": 2
}
